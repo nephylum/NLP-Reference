{
  "nbformat": 4,
  "nbformat_minor": 0,
  "metadata": {
    "colab": {
      "name": "NLP-Review.ipynb",
      "provenance": [],
      "collapsed_sections": []
    },
    "kernelspec": {
      "name": "python3",
      "display_name": "Python 3"
    },
    "language_info": {
      "name": "python"
    }
  },
  "cells": [
    {
      "cell_type": "markdown",
      "metadata": {
        "id": "MI9Ihjvl0_BW"
      },
      "source": [
        "NLP - Review\n",
        "What is NLP? Natural language processing is the converting human language into data which can then be used to make appropriate predictions to a novel input."
      ]
    },
    {
      "cell_type": "markdown",
      "metadata": {
        "id": "T6NTwWD5_kHi"
      },
      "source": [
        "# Tokenization and Lemmatization\n",
        "\n",
        "Separating the words from a sentence or the characters from a word (string) and giving them an integer value in order for it to be used later for statistical analysis (following vectorization) is *tokenization*.\n",
        "\n",
        "*Lemmatization* is when you reduce words to their base form (i.e. Went -> go) to reduce size and improve accuracy."
      ]
    },
    {
      "cell_type": "markdown",
      "metadata": {
        "id": "knVrs53bXljh"
      },
      "source": [
        "Tokenization by Character or word (manual)"
      ]
    },
    {
      "cell_type": "code",
      "metadata": {
        "colab": {
          "base_uri": "https://localhost:8080/"
        },
        "id": "_mzLz_0fXlKA",
        "outputId": "aad19b7f-5094-4342-bb2d-b24a5d3deb49"
      },
      "source": [
        "example = '24ResaP3xrisj98llhgwWig351qAZsxrdb22'\n",
        "# iterate through about example string, making each character a 'token' in a new list\n",
        "\n",
        "tokenlist = list(example)\n",
        "print(len(tokenlist))\n",
        "print(tokenlist)"
      ],
      "execution_count": 2,
      "outputs": [
        {
          "output_type": "stream",
          "text": [
            "36\n",
            "['2', '4', 'R', 'e', 's', 'a', 'P', '3', 'x', 'r', 'i', 's', 'j', '9', '8', 'l', 'l', 'h', 'g', 'w', 'W', 'i', 'g', '3', '5', '1', 'q', 'A', 'Z', 's', 'x', 'r', 'd', 'b', '2', '2']\n"
          ],
          "name": "stdout"
        }
      ]
    },
    {
      "cell_type": "code",
      "metadata": {
        "colab": {
          "base_uri": "https://localhost:8080/"
        },
        "id": "hilxurkeZH7l",
        "outputId": "6a38f4e0-056f-47fe-a5e6-0a6accf30b71"
      },
      "source": [
        "example_sentence = \"Judy will buy a dog after she has bought a house.\"\n",
        "#use the .split() method to get new token 'words' that are separated by whitespace\n",
        "wordtokens = []\n",
        "wordtokens = example_sentence.split(\" \")\n",
        "wordtokens\n"
      ],
      "execution_count": 8,
      "outputs": [
        {
          "output_type": "execute_result",
          "data": {
            "text/plain": [
              "['Judy',\n",
              " 'will',\n",
              " 'buy',\n",
              " 'a',\n",
              " 'dog',\n",
              " 'after',\n",
              " 'she',\n",
              " 'has',\n",
              " 'bought',\n",
              " 'a',\n",
              " 'house.']"
            ]
          },
          "metadata": {},
          "execution_count": 8
        }
      ]
    },
    {
      "cell_type": "markdown",
      "metadata": {
        "id": "iMnurQYLVvQx"
      },
      "source": [
        "Tokenization with SpaCy"
      ]
    },
    {
      "cell_type": "code",
      "metadata": {
        "colab": {
          "base_uri": "https://localhost:8080/"
        },
        "id": "mKLdIXf2VuTK",
        "outputId": "e389e4a4-43aa-4b36-da06-ee3cf9dfb59a"
      },
      "source": [
        "import spacy\n",
        "from spacy.tokenizer import Tokenizer\n",
        "\n",
        "# Load the pre-trained statistical model for English\n",
        "import en_core_web_sm\n",
        "nlp = en_core_web_sm.load()\n",
        "\n",
        "# Tokenizer\n",
        "tokenizer = Tokenizer(nlp.vocab)\n",
        "\n",
        "# # Sample text\n",
        "# example_sentence = \"They watched the 42 dancing piglets with panda bear tummies in the swimming pool.\"\n",
        "\n",
        "# Tokenize and print out list of tokens\n",
        "spacytokens = [token.text for token in tokenizer(example_sentence)]\n",
        "spacytokens"
      ],
      "execution_count": 9,
      "outputs": [
        {
          "output_type": "execute_result",
          "data": {
            "text/plain": [
              "['Judy',\n",
              " 'will',\n",
              " 'buy',\n",
              " 'a',\n",
              " 'dog',\n",
              " 'after',\n",
              " 'she',\n",
              " 'has',\n",
              " 'bought',\n",
              " 'a',\n",
              " 'house.']"
            ]
          },
          "metadata": {},
          "execution_count": 9
        }
      ]
    },
    {
      "cell_type": "markdown",
      "metadata": {
        "id": "Ezvi3YRJa6f7"
      },
      "source": [
        "Token Analysis"
      ]
    },
    {
      "cell_type": "code",
      "metadata": {
        "colab": {
          "base_uri": "https://localhost:8080/",
          "height": 332
        },
        "id": "F2LLwQbSa69S",
        "outputId": "cf78813b-94c2-4175-d4ae-fd5e92a35b6c"
      },
      "source": [
        "import seaborn as sns\n",
        "\n",
        "ax = sns.countplot(tokenlist)\n",
        "ax.set_title('Count of tokens in example string')"
      ],
      "execution_count": 5,
      "outputs": [
        {
          "output_type": "stream",
          "text": [
            "/usr/local/lib/python3.7/dist-packages/seaborn/_decorators.py:43: FutureWarning: Pass the following variable as a keyword arg: x. From version 0.12, the only valid positional argument will be `data`, and passing other arguments without an explicit keyword will result in an error or misinterpretation.\n",
            "  FutureWarning\n"
          ],
          "name": "stderr"
        },
        {
          "output_type": "execute_result",
          "data": {
            "text/plain": [
              "Text(0.5, 1.0, 'Count of tokens in example string')"
            ]
          },
          "metadata": {},
          "execution_count": 5
        },
        {
          "output_type": "display_data",
          "data": {
            "image/png": "[encoded data removed]",
            "text/plain": [
              "<Figure size 432x288 with 1 Axes>"
            ]
          },
          "metadata": {
            "needs_background": "light"
          }
        }
      ]
    },
    {
      "cell_type": "code",
      "metadata": {
        "colab": {
          "base_uri": "https://localhost:8080/",
          "height": 332
        },
        "id": "q6qC9RuGbLSh",
        "outputId": "851257d2-7f93-49f8-aa7c-77cb29758cac"
      },
      "source": [
        "ax = sns.countplot(wordtokens)\n",
        "ax.set_title('Count of tokens in example sentence')"
      ],
      "execution_count": 6,
      "outputs": [
        {
          "output_type": "stream",
          "text": [
            "/usr/local/lib/python3.7/dist-packages/seaborn/_decorators.py:43: FutureWarning: Pass the following variable as a keyword arg: x. From version 0.12, the only valid positional argument will be `data`, and passing other arguments without an explicit keyword will result in an error or misinterpretation.\n",
            "  FutureWarning\n"
          ],
          "name": "stderr"
        },
        {
          "output_type": "execute_result",
          "data": {
            "text/plain": [
              "Text(0.5, 1.0, 'Count of tokens in example sentence')"
            ]
          },
          "metadata": {},
          "execution_count": 6
        },
        {
          "output_type": "display_data",
          "data": {
            "image/png": "[encoded data removed]",
            "text/plain": [
              "<Figure size 432x288 with 1 Axes>"
            ]
          },
          "metadata": {
            "needs_background": "light"
          }
        }
      ]
    },
    {
      "cell_type": "code",
      "metadata": {
        "colab": {
          "base_uri": "https://localhost:8080/",
          "height": 332
        },
        "id": "mec3mRu6dOdx",
        "outputId": "998d7dcf-0fa9-4443-9718-bc21e874e052"
      },
      "source": [
        "ax = sns.countplot(spacytokens)\n",
        "ax.set_title('Count of spacy tokenized example')"
      ],
      "execution_count": 7,
      "outputs": [
        {
          "output_type": "stream",
          "text": [
            "/usr/local/lib/python3.7/dist-packages/seaborn/_decorators.py:43: FutureWarning: Pass the following variable as a keyword arg: x. From version 0.12, the only valid positional argument will be `data`, and passing other arguments without an explicit keyword will result in an error or misinterpretation.\n",
            "  FutureWarning\n"
          ],
          "name": "stderr"
        },
        {
          "output_type": "execute_result",
          "data": {
            "text/plain": [
              "Text(0.5, 1.0, 'Count of spacy tokenized example')"
            ]
          },
          "metadata": {},
          "execution_count": 7
        },
        {
          "output_type": "display_data",
          "data": {
            "image/png": "[encoded data removed]",
            "text/plain": [
              "<Figure size 432x288 with 1 Axes>"
            ]
          },
          "metadata": {
            "needs_background": "light"
          }
        }
      ]
    },
    {
      "cell_type": "markdown",
      "metadata": {
        "id": "xBlloK9JcBJ2"
      },
      "source": [
        "A simple count of both token lists shows that the text needs to be normalized and trimmed for statistical analysis. The  built in spacy function does not normalize, stem, or lemmatize their tokens."
      ]
    },
    {
      "cell_type": "markdown",
      "metadata": {
        "id": "Ms5yQFxhRPN7"
      },
      "source": [
        "#Removing Stop Words\n",
        "\n",
        "Stop words are words that are frequently used (and we want to stop from including them). Removing common words in our corpus will make later predictions more accurate. \n",
        "\n",
        "Common words removed are articles (the), adverbs (really, almost), conjunctions (and/or) and pronouns (he/she)"
      ]
    },
    {
      "cell_type": "code",
      "metadata": {
        "colab": {
          "base_uri": "https://localhost:8080/"
        },
        "id": "FA00KnD8SE2X",
        "outputId": "d8c7997f-ec85-47e7-cdd2-70e64efa6697"
      },
      "source": [
        "#spacy has a built-in list of stop words\n",
        "import spacy\n",
        "import en_core_web_sm #cannot get large to work on colab\n",
        "nlp = en_core_web_sm.load()\n",
        "stopWords = list(nlp.Defaults.stop_words)\n",
        "print('Total number of Stop Words', len(stopWords))\n",
        "print(stopWords)"
      ],
      "execution_count": 20,
      "outputs": [
        {
          "output_type": "stream",
          "text": [
            "Total number of Stop Words 326\n",
            "['anyway', 'somewhere', 'alone', 'to', 'about', 'among', 'our', 'using', 'without', 'across', 'ever', 'very', 'thereby', 'who', 'everywhere', 'ca', 'thereafter', 'front', 'except', 'now', 'anyone', 'empty', 'ten', 'did', 'for', 'its', 'back', 'they', 'where', 'amongst', 'every', 'was', 'whither', 'part', 'here', 'had', 'besides', 'n’t', 'this', 'own', 'whereas', 'hers', 'herself', 'but', 'toward', 'an', 'above', 'whenever', 'something', 'while', 'put', 'hundred', 'various', 'well', 'twenty', 'eleven', 'such', 'has', 'mostly', 'really', 'thereupon', 'ours', 'other', 'on', 'latter', 'never', 'yourself', 'could', 'take', 'only', 'do', 'nevertheless', 'when', 'many', 'everything', 'my', 'although', 'i', 'six', 'whence', 'whoever', 'less', '’m', 'elsewhere', 'sometimes', 'beforehand', 'into', 'became', 'become', 'beyond', 'does', 'namely', 'whole', '’ve', 'out', 'move', 'already', 'show', '’re', 'always', 'towards', 'go', 'around', 'name', 'if', 'therefore', 'perhaps', 'two', 'just', 'see', 'he', 'bottom', 'some', 'can', 'thru', 'doing', 'sixty', 'would', 'per', 'amount', 'noone', 'eight', 'off', '‘s', 'there', 'under', 'both', 'via', 'anything', \"'re\", 'seems', 'more', 'also', 'yours', 'as', 'serious', 'next', 'everyone', 'at', 'others', 'side', 'them', 'once', 'few', 'seemed', 'several', 'fifty', 'during', '‘m', 'she', 'which', 'with', 'give', 'still', 'wherein', 'themselves', 'else', 'not', 'within', 'full', 'please', 'whatever', 'hereupon', 'moreover', '’d', 'same', 'mine', 'nowhere', 'are', 'either', 'these', 'upon', 'least', 'yet', 'however', 'herein', 'hereby', 'somehow', \"'d\", 'enough', 'rather', 'between', 'of', 'your', 'nine', 'so', 'since', 'be', 'seeming', 're', 'why', 'onto', 'nobody', 'himself', 'any', 'how', '’s', 'no', 'along', 'might', 'thus', 'must', 'twelve', 'myself', 'us', 'we', 'fifteen', 'again', 'third', 'being', 'therein', 'last', 'over', 'another', 'someone', 'nothing', 'below', 'whether', 'it', 'or', 'otherwise', 'seem', 'until', 'up', 'due', 'call', \"'ve\", 'top', 'together', 'behind', 'will', 'nor', 'each', 'thence', 'neither', 'what', 'may', 'four', \"'ll\", 'make', 'were', 'throughout', 'ourselves', 'all', 'often', 'hereafter', 'through', 'used', 'beside', 'meanwhile', 'been', '’ll', 'then', 'hence', 'down', 'quite', 'whose', 'by', 'his', 'cannot', 'itself', \"'m\", 'get', 'made', 'is', \"n't\", 'before', 'becomes', 'yourselves', 'after', 'three', 'none', 'from', 'am', 'have', 'their', 'too', \"'s\", 'further', 'you', '‘ve', 'and', 'because', 'even', 'first', '‘re', 'whereby', 'should', 'against', 'one', 'becoming', 'done', 'that', 'those', 'anywhere', '‘d', 'though', 'much', 'whereafter', 'the', 'wherever', 'anyhow', 'whereupon', 'than', 'whom', '‘ll', 'most', 'say', 'in', 'forty', 'n‘t', 'keep', 'former', 'him', 'five', 'latterly', 'regarding', 'her', 'almost', 'me', 'afterwards', 'formerly', 'indeed', 'a', 'unless', 'sometime']\n"
          ],
          "name": "stdout"
        }
      ]
    },
    {
      "cell_type": "code",
      "metadata": {
        "colab": {
          "base_uri": "https://localhost:8080/"
        },
        "id": "hhn7rGGLawpB",
        "outputId": "56fa7dba-d616-4450-d227-e37ea36a128c"
      },
      "source": [
        "#use spacy's built-in stop-words to clean our list of tokens\n",
        "# print(example_sentence)\n",
        "stop_tokens = nlp(example_sentence)\n",
        "\n",
        "new_tokens = []\n",
        "\n",
        "for t in stop_tokens:\n",
        "  if (t.is_stop == False) & (t.is_punct == False):\n",
        "    new_tokens.append(t.text.lower()) #lowercase here to nomalize output\n",
        "\n",
        "for tok in new_tokens:\n",
        "  print(tok)\n"
      ],
      "execution_count": 36,
      "outputs": [
        {
          "output_type": "stream",
          "text": [
            "judy\n",
            "buy\n",
            "dog\n",
            "bought\n",
            "house\n"
          ],
          "name": "stdout"
        }
      ]
    },
    {
      "cell_type": "markdown",
      "metadata": {
        "id": "Keq6ub4LnnNR"
      },
      "source": [
        "# Lemmatization\n"
      ]
    },
    {
      "cell_type": "code",
      "metadata": {
        "colab": {
          "base_uri": "https://localhost:8080/"
        },
        "id": "XgJVE-CEnmVh",
        "outputId": "9680deeb-54ea-4a91-caa2-e936be4c55ee"
      },
      "source": [
        "#nlp = spacy.load('en_core_web_sm')\n",
        "lem_text = nlp(example_sentence)\n",
        "for token in lem_text:\n",
        "  print(token.text, ' ----> ', token.lemma_)\n"
      ],
      "execution_count": 42,
      "outputs": [
        {
          "output_type": "stream",
          "text": [
            "Judy  ---->  Judy\n",
            "will  ---->  will\n",
            "buy  ---->  buy\n",
            "a  ---->  a\n",
            "dog  ---->  dog\n",
            "after  ---->  after\n",
            "she  ---->  -PRON-\n",
            "has  ---->  have\n",
            "bought  ---->  buy\n",
            "a  ---->  a\n",
            "house  ---->  house\n",
            ".  ---->  .\n"
          ],
          "name": "stdout"
        }
      ]
    },
    {
      "cell_type": "markdown",
      "metadata": {
        "id": "H7uo32opAZ1n"
      },
      "source": [
        "# Text Vectorization\n"
      ]
    },
    {
      "cell_type": "code",
      "metadata": {
        "id": "Qv53G5aZ03kd"
      },
      "source": [
        ""
      ],
      "execution_count": null,
      "outputs": []
    },
    {
      "cell_type": "code",
      "metadata": {
        "id": "rjbId5dJ09f1"
      },
      "source": [
        ""
      ],
      "execution_count": null,
      "outputs": []
    }
  ]
}